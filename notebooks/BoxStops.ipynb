{
 "cells": [
  {
   "cell_type": "markdown",
   "metadata": {},
   "source": [
    "# Probabilidad de conseguir un kart bueno"
   ]
  },
  {
   "cell_type": "code",
   "execution_count": null,
   "metadata": {},
   "outputs": [],
   "source": [
    "import random\n",
    "import time\n",
    "import statistics as st\n",
    "from collections import Counter"
   ]
  },
  {
   "cell_type": "code",
   "execution_count": null,
   "metadata": {},
   "outputs": [],
   "source": [
    "class Kart:\n",
    "    def __init__(self):\n",
    "        self._is_good = False\n",
    "    \n",
    "    def set_good(self, is_good):\n",
    "        self._is_good = is_good\n",
    "        return self\n",
    "    \n",
    "    def is_good(self):\n",
    "        return self._is_good"
   ]
  },
  {
   "cell_type": "code",
   "execution_count": null,
   "metadata": {},
   "outputs": [],
   "source": [
    "def simulation(n_karts, n_good_karts, n_iters, top_probs, human_balance, debug=False):\n",
    "    stops = []\n",
    "\n",
    "    if not debug:\n",
    "        print('Calculando...')\n",
    "    \n",
    "    for i in range(n_iters):\n",
    "        if debug:\n",
    "            print(\"\\r\" + 'Calculando... (%d / %d) (%d)' % (i + 1, n_iters, n_good_karts), ' '*10, end='', flush=True)\n",
    "\n",
    "        queue_left = []\n",
    "        queue_right = []\n",
    "        balance = 0\n",
    "\n",
    "        # Colocar karts aleatoriamente\n",
    "        for _ in range(n_good_karts):\n",
    "            random.seed()\n",
    "            pos = random.randint(0, 1)\n",
    "            k = Kart().set_good(True)\n",
    "            if pos == 0:\n",
    "                queue_left.append(k)\n",
    "            else:\n",
    "                queue_right.append(k)\n",
    "\n",
    "        for _ in range(n_karts - n_good_karts):\n",
    "            k = Kart()\n",
    "            if len(queue_left) <= len(queue_right):\n",
    "                queue_left.insert(0, k)\n",
    "            else:\n",
    "                queue_right.insert(0, k)\n",
    "\n",
    "        # Simulacion\n",
    "        remaining = n_good_karts\n",
    "        step = 0\n",
    "        while remaining > 0:        \n",
    "            k_in = Kart()\n",
    "            random.seed()\n",
    "            pos = random.randint(0, 1)\n",
    "\n",
    "            if human_balance is not None:\n",
    "                if balance <= -human_balance:\n",
    "                    pos = 1\n",
    "                else:\n",
    "                    pos = 0\n",
    "\n",
    "            if pos == 0:\n",
    "                k_out = queue_left.pop(0)\n",
    "                queue_left.append(k_in)\n",
    "                balance = balance - 1\n",
    "            else:\n",
    "                k_out = queue_right.pop(0)\n",
    "                queue_right.append(k_in)\n",
    "                balance = balance + 1\n",
    "\n",
    "            if k_out.is_good():\n",
    "                stops.append(step)\n",
    "                remaining = remaining - 1\n",
    "\n",
    "            step = step + 1\n",
    "\n",
    "    if debug:\n",
    "        print('')\n",
    "    print('Ok!')\n",
    "\n",
    "    print('-' * 10)\n",
    "\n",
    "    print('De media, hay que esperar: %.2f vueltas' % st.mean(stops))\n",
    "\n",
    "    print('-' * 10)\n",
    "\n",
    "    count_stops = {k: v for k, v in sorted(Counter(stops).items(), key=lambda item: item[1], reverse=True)}\n",
    "    print('Top estrategias:')\n",
    "\n",
    "    i = 0\n",
    "    all_counts = sum(count_stops.values())\n",
    "    for n_stops, count in count_stops.items():\n",
    "        prob = count / all_counts\n",
    "        print('- Stop %d -> %.2f%%' % (n_stops, prob))\n",
    "        i = i + 1\n",
    "        if i >= top_probs:\n",
    "            break"
   ]
  },
  {
   "cell_type": "markdown",
   "metadata": {},
   "source": [
    "## 1 kart bueno"
   ]
  },
  {
   "cell_type": "code",
   "execution_count": null,
   "metadata": {},
   "outputs": [],
   "source": [
    "n_karts = 6 # Numero de karts en boxes\n",
    "n_good_karts = 1 # Numero de karts buenos\n",
    "n_iters = 100000 # Numero de simulaciones para obtener probabilidades\n",
    "top_probs = 6 # Mostrar el top <numero> de estrategias\n",
    "human_balance = None # Factor humano: si o no\n",
    "\n",
    "simulation(n_karts, n_good_karts, n_iters, top_probs, human_balance)"
   ]
  },
  {
   "cell_type": "code",
   "execution_count": null,
   "metadata": {},
   "outputs": [],
   "source": [
    "n_karts = 6 # Numero de karts en boxes\n",
    "n_good_karts = 1 # Numero de karts buenos\n",
    "n_iters = 100000 # Numero de simulaciones para obtener probabilidades\n",
    "top_probs = 6 # Mostrar el top <numero> de estrategias\n",
    "human_balance = 2 # Factor humano: si o no\n",
    "\n",
    "simulation(n_karts, n_good_karts, n_iters, top_probs, human_balance)"
   ]
  },
  {
   "cell_type": "markdown",
   "metadata": {},
   "source": [
    "## 2 karts buenos"
   ]
  },
  {
   "cell_type": "code",
   "execution_count": null,
   "metadata": {},
   "outputs": [],
   "source": [
    "n_karts = 6 # Numero de karts en boxes\n",
    "n_good_karts = 2 # Numero de karts buenos\n",
    "n_iters = 100000 # Numero de simulaciones para obtener probabilidades\n",
    "top_probs = 6 # Mostrar el top <numero> de estrategias\n",
    "human_balance = None # Factor humano: si o no\n",
    "\n",
    "simulation(n_karts, n_good_karts, n_iters, top_probs, human_balance)"
   ]
  },
  {
   "cell_type": "code",
   "execution_count": null,
   "metadata": {},
   "outputs": [],
   "source": [
    "n_karts = 6 # Numero de karts en boxes\n",
    "n_good_karts = 2 # Numero de karts buenos\n",
    "n_iters = 100000 # Numero de simulaciones para obtener probabilidades\n",
    "top_probs = 6 # Mostrar el top <numero> de estrategias\n",
    "human_balance = 2 # Factor humano: si o no\n",
    "\n",
    "simulation(n_karts, n_good_karts, n_iters, top_probs, human_balance)"
   ]
  },
  {
   "cell_type": "markdown",
   "metadata": {},
   "source": [
    "## 3 karts buenos"
   ]
  },
  {
   "cell_type": "code",
   "execution_count": null,
   "metadata": {},
   "outputs": [],
   "source": [
    "n_karts = 6 # Numero de karts en boxes\n",
    "n_good_karts = 3 # Numero de karts buenos\n",
    "n_iters = 100000 # Numero de simulaciones para obtener probabilidades\n",
    "top_probs = 6 # Mostrar el top <numero> de estrategias\n",
    "human_balance = None # Factor humano: si o no\n",
    "\n",
    "simulation(n_karts, n_good_karts, n_iters, top_probs, human_balance)"
   ]
  },
  {
   "cell_type": "code",
   "execution_count": null,
   "metadata": {},
   "outputs": [],
   "source": [
    "n_karts = 6 # Numero de karts en boxes\n",
    "n_good_karts = 3 # Numero de karts buenos\n",
    "n_iters = 100000 # Numero de simulaciones para obtener probabilidades\n",
    "top_probs = 6 # Mostrar el top <numero> de estrategias\n",
    "human_balance = 2 # Factor humano: si (introducir numero de balance) o no (None)\n",
    "\n",
    "simulation(n_karts, n_good_karts, n_iters, top_probs, human_balance)"
   ]
  },
  {
   "cell_type": "code",
   "execution_count": null,
   "metadata": {},
   "outputs": [],
   "source": []
  }
 ],
 "metadata": {
  "kernelspec": {
   "display_name": "Python 3 (ipykernel)",
   "language": "python",
   "name": "python3"
  },
  "language_info": {
   "codemirror_mode": {
    "name": "ipython",
    "version": 3
   },
   "file_extension": ".py",
   "mimetype": "text/x-python",
   "name": "python",
   "nbconvert_exporter": "python",
   "pygments_lexer": "ipython3",
   "version": "3.9.13"
  }
 },
 "nbformat": 4,
 "nbformat_minor": 4
}
